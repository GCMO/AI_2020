{
 "cells": [
  {
   "cell_type": "markdown",
   "metadata": {},
   "source": [
    "**Exercise 1.1:** The cover price of a book is 24.95 EUR, but bookstores get a 40 percent discount. Shipping costs 3 EUR for the first copy and 75 cents for each additional copy. **Calculate the total wholesale costs for 60 copies**. "
   ]
  },
  {
   "cell_type": "code",
   "execution_count": 9,
   "metadata": {
    "ExecuteTime": {
     "end_time": "2020-12-02T15:52:59.477211Z",
     "start_time": "2020-12-02T15:52:59.472223Z"
    }
   },
   "outputs": [
    {
     "name": "stdout",
     "output_type": "stream",
     "text": [
      "945.4499999999999\n"
     ]
    }
   ],
   "source": [
    "BookPrice = 24.95\n",
    "DiscountedPrice = 0.6\n",
    "ShipCostBook1 = 3\n",
    "ShipCostBookRest = 0.75\n",
    "OrderedAmount = 60\n",
    "\n",
    "\n",
    "\n",
    "DiscountedBook = BookPrice * DiscountedPrice * OrderedAmount\n",
    "\n",
    "#print(DiscountedBook)\n",
    "\n",
    "ShippingCost = ShipCostBook1 + (ShipCostBookRest * (OrderedAmount -1))\n",
    "\n",
    "#print(ShippingCost)\n",
    "\n",
    "WholesaleCosts = DiscountedBook + ShippingCost\n",
    "\n",
    "print(WholesaleCosts)"
   ]
  },
  {
   "cell_type": "markdown",
   "metadata": {},
   "source": [
    "**Exercise 1.2:** When something is wrong with your code, Python will raise errors. Often these will be \"syntax errors\" that signal that something is wrong with the form of your code (e.g., the code in the previous exercise raised a `SyntaxError`). There are also \"runtime errors\", which signal that your code was in itself formally correct, but that something went wrong during the code's execution. A good example is the `ZeroDivisionError`, which indicates that you tried to divide a number by zero (which, as you may know, is not allowed). Try to make Python **raise such a `ZeroDivisionError`.**"
   ]
  },
  {
   "cell_type": "code",
   "execution_count": 2,
   "metadata": {
    "ExecuteTime": {
     "end_time": "2020-12-02T15:25:35.415863Z",
     "start_time": "2020-12-02T15:25:35.170519Z"
    }
   },
   "outputs": [
    {
     "ename": "ZeroDivisionError",
     "evalue": "division by zero",
     "output_type": "error",
     "traceback": [
      "\u001b[1;31m---------------------------------------------------------------------------\u001b[0m",
      "\u001b[1;31mZeroDivisionError\u001b[0m                         Traceback (most recent call last)",
      "\u001b[1;32m<ipython-input-2-95ebf3fe976f>\u001b[0m in \u001b[0;36m<module>\u001b[1;34m\u001b[0m\n\u001b[0;32m      2\u001b[0m \u001b[0mb\u001b[0m \u001b[1;33m=\u001b[0m \u001b[1;36m0\u001b[0m\u001b[1;33m\u001b[0m\u001b[1;33m\u001b[0m\u001b[0m\n\u001b[0;32m      3\u001b[0m \u001b[1;33m\u001b[0m\u001b[0m\n\u001b[1;32m----> 4\u001b[1;33m \u001b[0mc\u001b[0m \u001b[1;33m=\u001b[0m \u001b[1;36m8\u001b[0m \u001b[1;33m/\u001b[0m \u001b[1;36m0\u001b[0m\u001b[1;33m\u001b[0m\u001b[1;33m\u001b[0m\u001b[0m\n\u001b[0m\u001b[0;32m      5\u001b[0m \u001b[0mprint\u001b[0m\u001b[1;33m(\u001b[0m\u001b[0mc\u001b[0m\u001b[1;33m)\u001b[0m\u001b[1;33m\u001b[0m\u001b[1;33m\u001b[0m\u001b[0m\n",
      "\u001b[1;31mZeroDivisionError\u001b[0m: division by zero"
     ]
    }
   ],
   "source": [
    "a = 8\n",
    "b = 0\n",
    "\n",
    "c = 8 / 0\n",
    "print(c)"
   ]
  },
  {
   "cell_type": "markdown",
   "metadata": {
    "ExecuteTime": {
     "end_time": "2020-12-04T12:08:03.293982Z",
     "start_time": "2020-12-04T12:08:03.279915Z"
    }
   },
   "source": [
    "**Exercise 1.3**: You look at the clock and see that it is currently 14.00h. You set an alarm to go off 535 hours later. At what time will the alarm go off? Write a program that prints the answer. Hint: for the best solution, you will need the modulo operator. Second hint: The answer is 21.00h, but of course, this exercise is not about the answer, but about how you get it."
   ]
  },
  {
   "cell_type": "code",
   "execution_count": 2,
   "metadata": {
    "ExecuteTime": {
     "end_time": "2020-12-04T12:08:27.374616Z",
     "start_time": "2020-12-04T12:08:27.361987Z"
    }
   },
   "outputs": [
    {
     "name": "stdout",
     "output_type": "stream",
     "text": [
      "21 : 00 h\n"
     ]
    }
   ],
   "source": [
    "CurrentTime = (14)\n",
    "PredictedTime = (535)\n",
    "Day = (24)\n",
    "RemainingHours = PredictedTime % Day\n",
    "\n",
    "#print(Days)\n",
    "\n",
    "Alarm = CurrentTime + RemainingHours\n",
    "\n",
    "print(Alarm,\": 00\" \" h\")   #figure this out!!!"
   ]
  },
  {
   "cell_type": "markdown",
   "metadata": {},
   "source": [
    "**Exercise 4.1:**\n",
    "Define a function that receives a string parameter, and returns an integer indicating the count for all the letters of the alphabet that there are in the string. The expected output format is in a dictionary with the relevant keys and values. The capital version of a lower case letter is considered to be the same letter.\n",
    "\n",
    "This should sound quite familiar, try to do it without looking at your old code ;)\n",
    "\n",
    "What is the challenge?: Don't code 27 times the same line of code, learn how to do things that scale well."
   ]
  },
  {
   "cell_type": "code",
   "execution_count": 9,
   "metadata": {
    "ExecuteTime": {
     "end_time": "2020-12-04T12:18:35.827175Z",
     "start_time": "2020-12-04T12:18:23.822736Z"
    }
   },
   "outputs": [
    {
     "name": "stdout",
     "output_type": "stream",
     "text": [
      "Enter a word: 7\n",
      "7\n",
      "Counter({'7': 1})\n"
     ]
    }
   ],
   "source": [
    "#logic: \n",
    "#1. input from user, \n",
    "#2. lower the input letters, \n",
    "#3. add a dictionary, \n",
    "#4. check each letter against the alphabet, \n",
    "#5. add each occurence to the integer, 6 print\n",
    "\n",
    "from collections import Counter\n",
    "\n",
    "text = input (str(\"Enter a word: \"))        # input word\n",
    "text = text.lower()\n",
    "print(text)\n",
    "print(Counter(text))"
   ]
  },
  {
   "cell_type": "markdown",
   "metadata": {},
   "source": [
    "**Exercise 5.1**: Create a countdown function that starts at a certain count, and counts down to zero. Instead of zero, print \"Blast off!\". Use a `for` loop. \n"
   ]
  },
  {
   "cell_type": "code",
   "execution_count": 6,
   "metadata": {
    "ExecuteTime": {
     "end_time": "2020-12-02T15:26:42.980999Z",
     "start_time": "2020-12-02T15:26:38.036729Z"
    }
   },
   "outputs": [
    {
     "name": "stdout",
     "output_type": "stream",
     "text": [
      "give us a number: 15\n",
      "14\n",
      "13\n",
      "12\n",
      "11\n",
      "10\n",
      "9\n",
      "8\n",
      "7\n",
      "6\n",
      "5\n",
      "4\n",
      "3\n",
      "2\n",
      "1\n",
      "0\n",
      "Blast-OFF\n"
     ]
    }
   ],
   "source": [
    "counter = int(input (\"give us a number: \"))\n",
    "#def countdown (count_start):\n",
    "for counter in range(counter, 0, -1): \n",
    "   counter = counter-1\n",
    "   print (counter)\n",
    "   if counter == 0: \n",
    "       print(\"Blast-OFF\")\n"
   ]
  },
  {
   "cell_type": "markdown",
   "metadata": {},
   "source": [
    "**Exercise 5.2:** Write and test three functions that return the largest, the smallest, and the number of dividables by 3 in a given collection of numbers. Use the algorithm described earlier in the Part 5 lecture :)"
   ]
  },
  {
   "cell_type": "code",
   "execution_count": 7,
   "metadata": {
    "ExecuteTime": {
     "end_time": "2020-12-02T15:27:12.980534Z",
     "start_time": "2020-12-02T15:27:12.971533Z"
    }
   },
   "outputs": [
    {
     "name": "stdout",
     "output_type": "stream",
     "text": [
      "the biggest is:  100\n",
      "the smallest is:  2\n",
      "there are 4 divisibles numbers by 3\n"
     ]
    }
   ],
   "source": [
    "collection = [2, 4, 6, 12, 15, 99, 100] #collection of numbers\n",
    "\n",
    "\n",
    "def largest():\n",
    "    x = max(collection)        # find the largest number in the collection\n",
    "    print (\"the biggest is: \", x)\n",
    "largest()\n",
    "\n",
    "\n",
    "def smallest():\n",
    "    y = min(collection)        # find the smallest number in the collection\n",
    "    print (\"the smallest is: \", y) \n",
    "smallest()\n",
    "\n",
    "\n",
    "def three():\n",
    "    count = 0\n",
    "    for z in collection:            # find the x % 3 == 0\n",
    "        if z % 3 == 0:\n",
    "            count = count + 1\n",
    "    print(\"there are\", count, \"divisibles numbers by 3\")     \n",
    "three()\n"
   ]
  },
  {
   "cell_type": "markdown",
   "metadata": {},
   "source": [
    "**Exercise 5.4:** \"99 bottles of beer\" is a traditional song in the United States and Canada. It is popular to sing on long trips, as it has a very repetitive format which is easy to memorize, and can take a long time to sing. The song's simple lyrics are as follows: \"99 bottles of beer on the wall, 99 bottles of beer. Take one down, pass it around, 98 bottles of beer on the wall.\" The same verse is repeated, each time with one fewer bottle. The song is completed when the singer or singers reach zero. Write a function that generates and prints all the verses of the song (though you might start a bit lower, for instance with 10 bottles). Make sure that your loop is not endless, and that you use the proper inflection for the word \"bottle\"."
   ]
  },
  {
   "cell_type": "code",
   "execution_count": null,
   "metadata": {},
   "outputs": [],
   "source": [
    "#BEER SONG\n",
    "\n",
    "counter = 99             #total of our beers\n",
    "while counter >=0:       #create a infinite loop that will stop a 0\n",
    "    print ( counter, \"bottles of beer on the wall,\", counter, \"bottles of beer. Take one down, pass it around,\", counter-1, \"bottles of beer in the wall\") \n",
    "    counter = counter-1  #the counter is used to diminish our counter, or create a count down."
   ]
  },
  {
   "cell_type": "markdown",
   "metadata": {},
   "source": [
    "**Exercise 5.5:** The Fibonacci sequence is a sequence of numbers that starts with 1, followed by 1 again. Every next number is the sum of the two previous numbers. I.e., the sequence starts with 1, 1, 2, 3, 5, 8, 13, 21,... Write a function that calculates and prints the Fibonacci sequence until the numbers get higher than a maximum."
   ]
  },
  {
   "cell_type": "code",
   "execution_count": 3,
   "metadata": {
    "ExecuteTime": {
     "end_time": "2020-12-04T12:10:07.225365Z",
     "start_time": "2020-12-04T12:10:07.208627Z"
    }
   },
   "outputs": [
    {
     "name": "stdout",
     "output_type": "stream",
     "text": [
      "0\n",
      "1\n",
      "1\n",
      "2\n",
      "3\n",
      "5\n",
      "8\n",
      "13\n",
      "21\n"
     ]
    }
   ],
   "source": [
    "\"\"\"\n",
    "Fibonacci sequence up to 22 :\n",
    "0 , 1 , 1 , 2 , 3 , 5 , 8 , 13 , 21\n",
    "\"\"\"\n",
    "# Fibonacci\n",
    "\n",
    "\n",
    "def fibonacci():\n",
    "\n",
    "    maxnumber = 22          #maximum number to check\n",
    "\n",
    "    number = 0              # first variable, starting from zero, since we dont want to add 1 and 1 together at the beginning\n",
    "\n",
    "    number2 = 1             # second variable, because one plus zero is still one\n",
    "\n",
    "\n",
    "    while (number <= maxnumber):           # while loop until we reach the maximum number\n",
    "        print(number)\n",
    "        number3 = number + number2         # third variable, the result of adding first and second variable\n",
    "        number = number2                   # update first variable to the value of second variable\n",
    "        number2 = number3                  # update second variable to the value of third variable\n",
    "\n",
    "fibonacci()"
   ]
  },
  {
   "cell_type": "markdown",
   "metadata": {},
   "source": [
    "**Exercise 5.6 (🌶️🌶️):** A prime number is a positive integer that is dividable by exactly two different numbers, namely 1 and itself. The lowest (and only even) prime number is 2. The first 10 prime numbers are 2, 3, 5, 7, 11, 13, 17, 19, 23, and 29. Write a function that returns a list off all prime numbers below a given number.\n",
    "\n",
    "Hint: In a loop where you test the possible dividers of the number, you can conclude that the number is not prime as soon as you encounter a number other than 1 or the number itself that divides it. However, you can only conclude that it actually is prime after you have tested all possible dividers.\n",
    "\n",
    "What is the challenge here? You have to try to optimize your code and try to make it work for the highest prime number you can encounter before you run out of memory. For low numbers you should know how to do it already"
   ]
  },
  {
   "cell_type": "code",
   "execution_count": 5,
   "metadata": {
    "ExecuteTime": {
     "end_time": "2020-12-04T12:16:05.333642Z",
     "start_time": "2020-12-04T12:16:05.311144Z"
    }
   },
   "outputs": [
    {
     "name": "stdout",
     "output_type": "stream",
     "text": [
      "2\n",
      "3\n",
      "5\n",
      "7\n",
      "11\n",
      "13\n",
      "17\n",
      "19\n",
      "23\n",
      "29\n",
      "31\n",
      "37\n",
      "41\n",
      "43\n",
      "47\n"
     ]
    }
   ],
   "source": [
    "number = 2\n",
    "maxnumber = 50\n",
    "                                                       \n",
    "for num in range(number, maxnumber + 1):\n",
    "   # all prime numbers are greater than 1\n",
    "   if num > 1:\n",
    "       for i in range(2, num):\n",
    "           if (num % i) == 0:\n",
    "               break\n",
    "       else:\n",
    "           print(num)\n"
   ]
  },
  {
   "cell_type": "markdown",
   "metadata": {},
   "source": [
    "**Exercise 5.7 (🌶️🌶️):** Write a function that prints all integers between the parameters a and b that can be written as the sum of two squares. Produce output in the form of z = x**2 + y**2, e.g., 58 = 3**2 + 7**2. If a number occurs on the list with multiple different ways of writing it as the sum of two squares, that is acceptable."
   ]
  },
  {
   "cell_type": "code",
   "execution_count": 8,
   "metadata": {
    "ExecuteTime": {
     "end_time": "2020-12-04T12:17:44.391920Z",
     "start_time": "2020-12-04T12:17:44.352034Z"
    }
   },
   "outputs": [
    {
     "name": "stdout",
     "output_type": "stream",
     "text": [
      "Checking if 2 is prime\n",
      "Checking if 3 is prime\n",
      "Checking if 4 is prime\n",
      "Checking if 5 is prime\n",
      "Checking if 6 is prime\n",
      "Checking if 7 is prime\n",
      "Checking if 8 is prime\n",
      "Checking if 9 is prime\n",
      "This is prime 9\n"
     ]
    },
    {
     "data": {
      "text/plain": [
       "{2}"
      ]
     },
     "execution_count": 8,
     "metadata": {},
     "output_type": "execute_result"
    }
   ],
   "source": [
    "import math\n",
    "\n",
    "def primeNum(n):\n",
    "    prime_list = []\n",
    "    not_prime = []\n",
    "    for num in range(2,n):\n",
    "        print(f\"Checking if {num} is prime\")\n",
    "        for x in range(2,int(math.sqrt(num))):\n",
    "            if num % x == 0:\n",
    "                print('This is not a prime', num)\n",
    "                not_prime_list.append(x)\n",
    "                break\n",
    "            else:\n",
    "                print('This is prime', num)\n",
    "                if num not in prime_list:\n",
    "                    prime_list.append(x)\n",
    "    return set(prime_list)\n",
    "\n",
    "primeNum(10)"
   ]
  },
  {
   "cell_type": "markdown",
   "metadata": {},
   "source": [
    "**Exercise 5.8 (🌶️):** A, B, C, and D are all different digits. The number DCBA is equal to 4 times the number ABCD. What are the digits? Note: to make ABCD and DCBA conventional numbers, neither A nor D can be zero. Use a quadruple-nested loop."
   ]
  },
  {
   "cell_type": "code",
   "execution_count": 4,
   "metadata": {
    "ExecuteTime": {
     "end_time": "2020-12-04T12:10:38.061378Z",
     "start_time": "2020-12-04T12:10:38.004640Z"
    }
   },
   "outputs": [
    {
     "name": "stdout",
     "output_type": "stream",
     "text": [
      "a= 2 b= 1 c= 7 d= 8\n"
     ]
    }
   ],
   "source": [
    "# A= >0 \n",
    "# B= x\n",
    "# C= y\n",
    "# D= >0 \n",
    "# our range is limited from 0-9 bc if >9 we have 2 digits and A and D are >0\n",
    "#DCBA == ABCD*4\n",
    "\n",
    "for A in range(1,10):\n",
    "    for B in range(0,10):\n",
    "        for C in range(0,10):\n",
    "            for D in range(1,10):\n",
    "                if 4* (1000* A + 100 * B + 10 * C + D) == (A + 10 * B + 100 * C + 1000 * D):             \n",
    "                    print (\"a=\",A, \"b=\", B, \"c=\",C, \"d=\",D)             \n"
   ]
  }
 ],
 "metadata": {
  "kernelspec": {
   "display_name": "Python 3",
   "language": "python",
   "name": "python3"
  },
  "language_info": {
   "codemirror_mode": {
    "name": "ipython",
    "version": 3
   },
   "file_extension": ".py",
   "mimetype": "text/x-python",
   "name": "python",
   "nbconvert_exporter": "python",
   "pygments_lexer": "ipython3",
   "version": "3.7.4"
  }
 },
 "nbformat": 4,
 "nbformat_minor": 4
}
